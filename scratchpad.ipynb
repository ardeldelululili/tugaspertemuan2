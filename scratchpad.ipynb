{
  "cells": [
    {
      "cell_type": "markdown",
      "metadata": {
        "id": "view-in-github",
        "colab_type": "text"
      },
      "source": [
        "<a href=\"https://colab.research.google.com/github/ardeldelululili/tugaspertemuan2/blob/main/scratchpad.ipynb\" target=\"_parent\"><img src=\"https://colab.research.google.com/assets/colab-badge.svg\" alt=\"Open In Colab\"/></a>"
      ]
    },
    {
      "cell_type": "code",
      "execution_count": 1,
      "metadata": {
        "colab": {
          "base_uri": "https://localhost:8080/"
        },
        "id": "lIYdn1woOS1n",
        "outputId": "500c277e-ab36-4310-ad6f-d2392f939b08"
      },
      "outputs": [
        {
          "output_type": "stream",
          "name": "stdout",
          "text": [
            "Requirement already satisfied: numpy in /usr/local/lib/python3.10/dist-packages (1.25.2)\n"
          ]
        }
      ],
      "source": [
        "pip install numpy"
      ]
    },
    {
      "cell_type": "code",
      "source": [
        "\n",
        "import numpy as np\n",
        ""
      ],
      "metadata": {
        "id": "kC9TZGqdsoku"
      },
      "execution_count": 2,
      "outputs": []
    },
    {
      "cell_type": "code",
      "source": [
        "\n",
        "# Membuat matriks 5x5 dengan angka 11 hingga 35\n",
        "angka = np.arange(11,36)\n",
        "matriks = angka.reshape(5,5)"
      ],
      "metadata": {
        "id": "13o4lBqSszNp"
      },
      "execution_count": 3,
      "outputs": []
    },
    {
      "cell_type": "code",
      "source": [
        "\n",
        "# Fungsi untuk memberi warna pada angka-angka tertentu\n",
        "def warna_angka(angka) :\n",
        "  if angka in [11, 13, 15, 21, 23, 25, 31, 33, 35] :\n",
        "    return \"\\033[32m{}\\033[0m\". format(angka) # Hijau\n",
        "  elif angka in [12, 14] :\n",
        "    return \"\\033[31m{}\\033[0m\". format(angka) # Merah\n",
        "  elif angka in [16, 26] :\n",
        "    return \"\\033[34m{}\\033[0m\". format(angka) # Biru\n",
        "  elif angka in [12, 17, 22, 27, 32] :\n",
        "    return \"\\033[91m{}\\033[0m\". format(angka) # Merah Muda\n",
        "  else :\n",
        "    return str(angka)"
      ],
      "metadata": {
        "id": "jpp6iSfus20O"
      },
      "execution_count": 4,
      "outputs": []
    },
    {
      "cell_type": "code",
      "source": [
        "\n",
        "# Mengubah setiap elemen matriks dengan fungsi warna_angka\n",
        "matriks_warna = np.vectorize(warna_angka)(matriks)"
      ],
      "metadata": {
        "id": "P7-TuTpXs6UC"
      },
      "execution_count": 5,
      "outputs": []
    },
    {
      "cell_type": "code",
      "source": [
        "\n",
        "# Menampilkan matriks dengan warna pada angka-angka tertentu\n",
        "for baris in matriks_warna :\n",
        "  print(\"\".join(baris))"
      ],
      "metadata": {
        "id": "BegvfkGjtDeh",
        "outputId": "7d9cca32-7441-48ae-d126-dbeb82f3734b",
        "colab": {
          "base_uri": "https://localhost:8080/"
        }
      },
      "execution_count": 6,
      "outputs": [
        {
          "output_type": "stream",
          "name": "stdout",
          "text": [
            "\u001b[32m11\u001b[0m\u001b[31m12\u001b[0m\u001b[32m13\u001b[0m\u001b[31m14\u001b[0m\u001b[32m15\u001b[0m\n",
            "\u001b[34m16\u001b[0m\u001b[91m17\u001b[0m181920\n",
            "\u001b[32m21\u001b[0m\u001b[91m22\u001b[0m\u001b[32m23\u001b[0m24\u001b[32m25\u001b[0m\n",
            "\u001b[34m26\u001b[0m\u001b[91m27\u001b[0m282930\n",
            "\u001b[32m31\u001b[0m\u001b[91m32\u001b[0m\u001b[32m33\u001b[0m34\u001b[32m35\u001b[0m\n"
          ]
        }
      ]
    }
  ],
  "metadata": {
    "colab": {
      "name": "scratchpad",
      "provenance": [],
      "include_colab_link": true
    },
    "kernelspec": {
      "display_name": "Python 3",
      "name": "python3"
    }
  },
  "nbformat": 4,
  "nbformat_minor": 0
}